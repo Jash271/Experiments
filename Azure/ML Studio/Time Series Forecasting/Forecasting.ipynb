{
  "cells": [
    {
      "cell_type": "code",
      "source": [
        "import numpy as np\r\n",
        "import pickle"
      ],
      "outputs": [],
      "execution_count": 42,
      "metadata": {
        "jupyter": {
          "source_hidden": false,
          "outputs_hidden": false
        },
        "nteract": {
          "transient": {
            "deleting": false
          }
        },
        "gather": {
          "logged": 1634199525695
        }
      }
    },
    {
      "cell_type": "code",
      "source": [
        "import pandas as pd\r\n",
        "df = pd.read_csv('bike-no.csv')\r\n",
        "df.head()"
      ],
      "outputs": [
        {
          "output_type": "execute_result",
          "execution_count": 2,
          "data": {
            "text/plain": "   instant      date  season  yr  mnth  weekday  weathersit      temp  \\\n0        1  1/1/2011       1   0     1        6           2  0.344167   \n1        2  1/2/2011       1   0     1        0           2  0.363478   \n2        3  1/3/2011       1   0     1        1           1  0.196364   \n3        4  1/4/2011       1   0     1        2           1  0.200000   \n4        5  1/5/2011       1   0     1        3           1  0.226957   \n\n      atemp       hum  windspeed  casual  registered   cnt  \n0  0.363625  0.805833   0.160446     331         654   985  \n1  0.353739  0.696087   0.248539     131         670   801  \n2  0.189405  0.437273   0.248309     120        1229  1349  \n3  0.212122  0.590435   0.160296     108        1454  1562  \n4  0.229270  0.436957   0.186900      82        1518  1600  ",
            "text/html": "<div>\n<style scoped>\n    .dataframe tbody tr th:only-of-type {\n        vertical-align: middle;\n    }\n\n    .dataframe tbody tr th {\n        vertical-align: top;\n    }\n\n    .dataframe thead th {\n        text-align: right;\n    }\n</style>\n<table border=\"1\" class=\"dataframe\">\n  <thead>\n    <tr style=\"text-align: right;\">\n      <th></th>\n      <th>instant</th>\n      <th>date</th>\n      <th>season</th>\n      <th>yr</th>\n      <th>mnth</th>\n      <th>weekday</th>\n      <th>weathersit</th>\n      <th>temp</th>\n      <th>atemp</th>\n      <th>hum</th>\n      <th>windspeed</th>\n      <th>casual</th>\n      <th>registered</th>\n      <th>cnt</th>\n    </tr>\n  </thead>\n  <tbody>\n    <tr>\n      <th>0</th>\n      <td>1</td>\n      <td>1/1/2011</td>\n      <td>1</td>\n      <td>0</td>\n      <td>1</td>\n      <td>6</td>\n      <td>2</td>\n      <td>0.344167</td>\n      <td>0.363625</td>\n      <td>0.805833</td>\n      <td>0.160446</td>\n      <td>331</td>\n      <td>654</td>\n      <td>985</td>\n    </tr>\n    <tr>\n      <th>1</th>\n      <td>2</td>\n      <td>1/2/2011</td>\n      <td>1</td>\n      <td>0</td>\n      <td>1</td>\n      <td>0</td>\n      <td>2</td>\n      <td>0.363478</td>\n      <td>0.353739</td>\n      <td>0.696087</td>\n      <td>0.248539</td>\n      <td>131</td>\n      <td>670</td>\n      <td>801</td>\n    </tr>\n    <tr>\n      <th>2</th>\n      <td>3</td>\n      <td>1/3/2011</td>\n      <td>1</td>\n      <td>0</td>\n      <td>1</td>\n      <td>1</td>\n      <td>1</td>\n      <td>0.196364</td>\n      <td>0.189405</td>\n      <td>0.437273</td>\n      <td>0.248309</td>\n      <td>120</td>\n      <td>1229</td>\n      <td>1349</td>\n    </tr>\n    <tr>\n      <th>3</th>\n      <td>4</td>\n      <td>1/4/2011</td>\n      <td>1</td>\n      <td>0</td>\n      <td>1</td>\n      <td>2</td>\n      <td>1</td>\n      <td>0.200000</td>\n      <td>0.212122</td>\n      <td>0.590435</td>\n      <td>0.160296</td>\n      <td>108</td>\n      <td>1454</td>\n      <td>1562</td>\n    </tr>\n    <tr>\n      <th>4</th>\n      <td>5</td>\n      <td>1/5/2011</td>\n      <td>1</td>\n      <td>0</td>\n      <td>1</td>\n      <td>3</td>\n      <td>1</td>\n      <td>0.226957</td>\n      <td>0.229270</td>\n      <td>0.436957</td>\n      <td>0.186900</td>\n      <td>82</td>\n      <td>1518</td>\n      <td>1600</td>\n    </tr>\n  </tbody>\n</table>\n</div>"
          },
          "metadata": {}
        }
      ],
      "execution_count": 2,
      "metadata": {
        "jupyter": {
          "source_hidden": false,
          "outputs_hidden": false
        },
        "nteract": {
          "transient": {
            "deleting": false
          }
        },
        "gather": {
          "logged": 1634195380326
        }
      }
    },
    {
      "cell_type": "code",
      "source": [
        "df['date'] = pd.to_datetime(df['date'])"
      ],
      "outputs": [],
      "execution_count": 3,
      "metadata": {
        "jupyter": {
          "source_hidden": false,
          "outputs_hidden": false
        },
        "nteract": {
          "transient": {
            "deleting": false
          }
        },
        "gather": {
          "logged": 1634195704251
        }
      }
    },
    {
      "cell_type": "code",
      "source": [
        "df.shape[0]"
      ],
      "outputs": [
        {
          "output_type": "execute_result",
          "execution_count": 4,
          "data": {
            "text/plain": "731"
          },
          "metadata": {}
        }
      ],
      "execution_count": 4,
      "metadata": {
        "jupyter": {
          "source_hidden": false,
          "outputs_hidden": false
        },
        "nteract": {
          "transient": {
            "deleting": false
          }
        },
        "gather": {
          "logged": 1634195754395
        }
      }
    },
    {
      "cell_type": "code",
      "source": [
        "train_data = df.iloc[:650]\r\n",
        "test_data = df.iloc[650:]"
      ],
      "outputs": [],
      "execution_count": 5,
      "metadata": {
        "jupyter": {
          "source_hidden": false,
          "outputs_hidden": false
        },
        "nteract": {
          "transient": {
            "deleting": false
          }
        },
        "gather": {
          "logged": 1634195777530
        }
      }
    },
    {
      "cell_type": "code",
      "source": [
        "from azureml.automl.core.forecasting_parameters import ForecastingParameters"
      ],
      "outputs": [],
      "execution_count": 7,
      "metadata": {
        "jupyter": {
          "source_hidden": false,
          "outputs_hidden": false
        },
        "nteract": {
          "transient": {
            "deleting": false
          }
        },
        "gather": {
          "logged": 1634195844989
        }
      }
    },
    {
      "cell_type": "code",
      "source": [
        "forecasting_parameters = ForecastingParameters(time_column_name='date', \r\n",
        "                                               forecast_horizon=50,\r\n",
        "                                               \r\n",
        "                                               freq='D',\r\n",
        "                                               target_lags='auto',\r\n",
        "                                               target_rolling_window_size=10)"
      ],
      "outputs": [],
      "execution_count": 18,
      "metadata": {
        "jupyter": {
          "source_hidden": false,
          "outputs_hidden": false
        },
        "nteract": {
          "transient": {
            "deleting": false
          }
        },
        "gather": {
          "logged": 1634196931850
        }
      }
    },
    {
      "cell_type": "code",
      "source": [
        "from azureml.core.workspace import Workspace\r\n",
        "from azureml.core.experiment import Experiment\r\n",
        "from azureml.train.automl import AutoMLConfig\r\n",
        "import logging"
      ],
      "outputs": [],
      "execution_count": 19,
      "metadata": {
        "jupyter": {
          "source_hidden": false,
          "outputs_hidden": false
        },
        "nteract": {
          "transient": {
            "deleting": false
          }
        },
        "gather": {
          "logged": 1634196933351
        }
      }
    },
    {
      "cell_type": "code",
      "source": [
        "automl_config = AutoMLConfig(task='forecasting',\r\n",
        "                             primary_metric='normalized_root_mean_squared_error',\r\n",
        "                             experiment_timeout_minutes=15,\r\n",
        "                             enable_early_stopping=True,\r\n",
        "                             training_data=train_data,\r\n",
        "                             label_column_name='registered',\r\n",
        "                             n_cross_validations=5,\r\n",
        "                             enable_ensembling=False,\r\n",
        "                             verbosity=logging.INFO,\r\n",
        "                             forecasting_parameters = forecasting_parameters)"
      ],
      "outputs": [],
      "execution_count": 20,
      "metadata": {
        "jupyter": {
          "source_hidden": false,
          "outputs_hidden": false
        },
        "nteract": {
          "transient": {
            "deleting": false
          }
        },
        "gather": {
          "logged": 1634196934428
        }
      }
    },
    {
      "cell_type": "code",
      "source": [
        "ws = Workspace.from_config()\r\n",
        "experiment = Experiment(ws, \"Tutorial-automl-forecasting\")\r\n",
        "local_run = experiment.submit(automl_config, show_output=True)\r\n",
        "best_run, fitted_model = local_run.get_output()"
      ],
      "outputs": [
        {
          "output_type": "stream",
          "name": "stdout",
          "text": "No run_configuration provided, running on local with default configuration\nRunning in the active local environment.\n"
        },
        {
          "output_type": "display_data",
          "data": {
            "text/plain": "<IPython.core.display.HTML object>",
            "text/html": "<table style=\"width:100%\"><tr><th>Experiment</th><th>Id</th><th>Type</th><th>Status</th><th>Details Page</th><th>Docs Page</th></tr><tr><td>Tutorial-automl-forecasting</td><td>AutoML_ad25368e-6d9b-421c-9d9f-268a20e9cbd9</td><td>automl</td><td>Preparing</td><td><a href=\"https://ml.azure.com/runs/AutoML_ad25368e-6d9b-421c-9d9f-268a20e9cbd9?wsid=/subscriptions/c8204c65-7397-4888-a397-a21bc631464e/resourcegroups/ml-workspace/workspaces/ml-workspace&amp;tid=638c2807-f86c-4538-9f10-19623d30686b\" target=\"_blank\" rel=\"noopener\">Link to Azure Machine Learning studio</a></td><td><a href=\"https://docs.microsoft.com/en-us/python/api/overview/azure/ml/intro?view=azure-ml-py\" target=\"_blank\" rel=\"noopener\">Link to Documentation</a></td></tr></table>"
          },
          "metadata": {}
        },
        {
          "output_type": "stream",
          "name": "stdout",
          "text": "Current status: DatasetFeaturization. Beginning to featurize the dataset.\nCurrent status: DatasetFeaturizationCompleted. Completed featurizing the dataset.\nHeuristic parameters: Target_Lag = '[1]'.\nCurrent status: DatasetCrossValidationSplit. Generating individually featurized CV splits.\nCurrent status: DatasetFeaturization. Beginning to featurize the CV split.\nCurrent status: DatasetFeaturizationCompleted. Completed featurizing the CV split.\nCurrent status: DatasetFeaturization. Beginning to featurize the CV split.\nCurrent status: DatasetFeaturizationCompleted. Completed featurizing the CV split.\nCurrent status: DatasetFeaturization. Beginning to featurize the CV split.\nCurrent status: DatasetFeaturizationCompleted. Completed featurizing the CV split.\nCurrent status: DatasetFeaturization. Beginning to featurize the CV split.\nCurrent status: DatasetFeaturizationCompleted. Completed featurizing the CV split.\nCurrent status: DatasetFeaturization. Beginning to featurize the CV split.\nCurrent status: DatasetFeaturizationCompleted. Completed featurizing the CV split.\n\n****************************************************************************************************\nDATA GUARDRAILS: \n\nTYPE:         Short series handling\nSTATUS:       PASSED\nDESCRIPTION:  Automated ML detected enough data points for each series in the input data to continue with training.\n              \n\n****************************************************************************************************\n\nTYPE:         Frequency detection\nSTATUS:       PASSED\nDESCRIPTION:  The time series was analyzed, all data points are aligned with detected frequency.\n              \n\n****************************************************************************************************\n\nTYPE:         Missing feature values imputation\nSTATUS:       PASSED\nDESCRIPTION:  No feature missing values were detected in the training data.\n              Learn more about missing value imputation: https://aka.ms/AutomatedMLFeaturization\n\n****************************************************************************************************\n\nTYPE:         Memory Issues Detection\nSTATUS:       PASSED\nDESCRIPTION:  The selected horizon, lag and rolling window values were analyzed, and no potential memory issues were detected.\n              Learn more about time-series forecasting configurations: https://aka.ms/AutomatedMLForecastingConfiguration\n\n****************************************************************************************************\nCurrent status: ModelSelection. Beginning model selection.\n\n****************************************************************************************************\nITERATION: The iteration being evaluated.\nPIPELINE: A summary description of the pipeline being evaluated.\nDURATION: Time taken for the current iteration.\nMETRIC: The result of computing score on the fitted pipeline.\nBEST: The best observed score thus far.\n****************************************************************************************************\n\n ITERATION   PIPELINE                                       DURATION      METRIC      BEST\n         0   Naive                                          0:00:37       0.2242    0.2242\n         1   SeasonalNaive                                  0:00:33       0.1383    0.1383\n         2   Average                                        0:00:35       0.3965    0.1383\n         3   SeasonalAverage                                0:00:33       0.1733    0.1383\n         4   ExponentialSmoothing                           0:00:51       0.1410    0.1383\n         5   Arimax                                         0:00:41       0.0000    0.0000\n         6   ProphetModel                                   0:00:58       0.0001    0.0000\n         7   StandardScalerWrapper LightGBM                 0:00:32       0.0461    0.0000\n         8   StandardScalerWrapper XGBoostRegressor         0:00:42       0.0474    0.0000\n         9   MaxAbsScaler ElasticNet                        0:00:30       0.0099    0.0000\n        10   RobustScaler ElasticNet                        0:00:29       0.0000    0.0000\n        11   MinMaxScaler ElasticNet                        0:00:30       0.0047    0.0000\n        12   StandardScalerWrapper ElasticNet               0:00:28       0.0002    0.0000\n        13   MinMaxScaler RandomForest                      0:00:29       0.1080    0.0000\n        14   MaxAbsScaler ElasticNet                        0:00:30       0.0051    0.0000\n        15   StandardScalerWrapper ElasticNet               0:00:30       0.0000    0.0000\n        16   MaxAbsScaler ElasticNet                        0:00:27       0.0002    0.0000\n        17   StandardScalerWrapper ElasticNet               0:00:29       0.0000    0.0000\n        18   MinMaxScaler ExtremeRandomTrees                0:00:29       0.0813    0.0000\n        19   MinMaxScaler RandomForest                      0:00:45       0.0655    0.0000\n        20   MinMaxScaler ExtremeRandomTrees                0:00:36       0.0872    0.0000\n        21   MinMaxScaler ExtremeRandomTrees                0:00:29       0.1176    0.0000\n        22   MaxAbsScaler ExtremeRandomTrees                0:00:31       0.0731    0.0000\n        23   MinMaxScaler DecisionTree                      0:00:29       0.0719    0.0000\n        24   RobustScaler ExtremeRandomTrees                0:00:30       0.0907    0.0000\nStopping criteria reached at iteration 25. Ending experiment.\n****************************************************************************************************\nCurrent status: BestRunExplainModel. Best run model explanations started\nCurrent status: ModelExplanationDataSetSetup. Model explanations data setup completed\nCurrent status: PickSurrogateModel. Choosing LightGBM as the surrogate model for explanations\nCurrent status: EngineeredFeatureExplanations. Computation of engineered features started\nCurrent status: EngineeredFeatureExplanations. Computation of engineered features completed\nCurrent status: RawFeaturesExplanations. Computation of raw features started\nCurrent status: RawFeaturesExplanations. Computation of raw features completed\nCurrent status: BestRunExplainModel. Best run model explanations completed\n****************************************************************************************************\n"
        },
        {
          "output_type": "stream",
          "name": "stderr",
          "text": "The module is deprecated in version 0.21 and will be removed in version 0.23 since we've dropped support for Python 2.7. Please rely on the official version of six (https://pypi.org/project/six/).\nnumpy.ufunc size changed, may indicate binary incompatibility. Expected 192 from C header, got 216 from PyObject\nsklearn.externals.joblib is deprecated in 0.21 and will be removed in 0.23. Please import this functionality directly from joblib, which can be installed with: pip install joblib. If this warning is raised when loading pickled models, you may need to re-serialize those models with scikit-learn 0.21+.\nINFO:interpret_community.common.explanation_utils:Using default datastore for uploads\n"
        }
      ],
      "execution_count": 21,
      "metadata": {
        "jupyter": {
          "source_hidden": false,
          "outputs_hidden": false
        },
        "nteract": {
          "transient": {
            "deleting": false
          }
        },
        "gather": {
          "logged": 1634197916068
        }
      }
    },
    {
      "cell_type": "code",
      "source": [
        "best_run"
      ],
      "outputs": [
        {
          "output_type": "execute_result",
          "execution_count": 22,
          "data": {
            "text/plain": "Run(Experiment: Tutorial-automl-forecasting,\nId: AutoML_ad25368e-6d9b-421c-9d9f-268a20e9cbd9_5,\nType: None,\nStatus: Completed)",
            "text/html": "<table style=\"width:100%\"><tr><th>Experiment</th><th>Id</th><th>Type</th><th>Status</th><th>Details Page</th><th>Docs Page</th></tr><tr><td>Tutorial-automl-forecasting</td><td>AutoML_ad25368e-6d9b-421c-9d9f-268a20e9cbd9_5</td><td></td><td>Completed</td><td><a href=\"https://ml.azure.com/runs/AutoML_ad25368e-6d9b-421c-9d9f-268a20e9cbd9_5?wsid=/subscriptions/c8204c65-7397-4888-a397-a21bc631464e/resourcegroups/ml-workspace/workspaces/ml-workspace&amp;tid=638c2807-f86c-4538-9f10-19623d30686b\" target=\"_blank\" rel=\"noopener\">Link to Azure Machine Learning studio</a></td><td><a href=\"https://docs.microsoft.com/en-us/python/api/azureml-core/azureml.core.run.Run?view=azure-ml-py\" target=\"_blank\" rel=\"noopener\">Link to Documentation</a></td></tr></table>"
          },
          "metadata": {}
        }
      ],
      "execution_count": 22,
      "metadata": {
        "jupyter": {
          "source_hidden": false,
          "outputs_hidden": false
        },
        "nteract": {
          "transient": {
            "deleting": false
          }
        },
        "gather": {
          "logged": 1634197942724
        }
      }
    },
    {
      "cell_type": "code",
      "source": [
        "fitted_model"
      ],
      "outputs": [
        {
          "output_type": "execute_result",
          "execution_count": 23,
          "data": {
            "text/plain": "ForecastingPipelineWrapper(pipeline=Pipeline(memory=None,\n                                             steps=[('timeseriestransformer',\n                                                     TimeSeriesTransformer(country_or_region=None, drop_column_names=[], featurization_config=FeaturizationConfig(\n    blocked_transformers=None,\n    column_purposes=None,\n    transformer_params=None,\n    dataset_language=None,\n    drop_columns=None,\n    prediction_transform_type=None\n), force_time_...\n                                   1.1221852630251072e-11,\n                                   1.1221852630251072e-11,\n                                   1.1144928926689601e-11,\n                                   1.129532370851668e-11,\n                                   1.1221852630251072e-11,\n                                   1.1159763125890436e-11,\n                                   1.1796815937189213e-11,\n                                   1.143795810804476e-11, 1.143795810804476e-11,\n                                   1.1610226208891943e-11,\n                                   1.1379955918249508e-11,\n                                   1.182483026288174e-11,\n                                   1.1504299109832135e-11,\n                                   1.1908477829516713e-11,\n                                   1.2112338892319888e-11,\n                                   1.2411853901890558e-11, ...])"
          },
          "metadata": {}
        }
      ],
      "execution_count": 23,
      "metadata": {
        "jupyter": {
          "source_hidden": false,
          "outputs_hidden": false
        },
        "nteract": {
          "transient": {
            "deleting": false
          }
        },
        "gather": {
          "logged": 1634197950859
        }
      }
    },
    {
      "cell_type": "code",
      "source": [
        "test_labels = test_data['registered'].to_numpy()\r\n",
        "test_labels"
      ],
      "outputs": [
        {
          "output_type": "execute_result",
          "execution_count": 40,
          "data": {
            "text/plain": "array([6222, 4857, 4559, 5115, 6612, 6482, 6501, 4671, 5284, 4692, 6228,\n       6625, 6898, 6484, 6262, 5209, 3461,   20, 1009, 5147, 5520, 5229,\n       4109, 3906, 4881, 5220, 4709, 4975, 5283, 4446, 4562, 5172, 3767,\n       5122, 5125, 5214, 4316, 3747, 5050, 5100, 4531, 1470, 2307, 1745,\n       2115, 4750, 3836, 5062, 5080, 5306, 4240, 3757, 5679, 6055, 5398,\n       5035, 4659, 4429, 2787, 4841, 5219, 5009, 5107, 5182, 4280, 3248,\n       4373, 5124, 4934, 3814, 3402, 1544, 1379,  746,  573,  432, 1867,\n       2451, 1182, 1432, 2290])"
          },
          "metadata": {}
        }
      ],
      "execution_count": 40,
      "metadata": {
        "jupyter": {
          "source_hidden": false,
          "outputs_hidden": false
        },
        "nteract": {
          "transient": {
            "deleting": false
          }
        },
        "gather": {
          "logged": 1634199273516
        }
      }
    },
    {
      "cell_type": "code",
      "source": [
        "label_query = test_labels.copy().astype(np.float)\r\n",
        "label_query.fill(np.nan)\r\n",
        "label_query"
      ],
      "outputs": [
        {
          "output_type": "execute_result",
          "execution_count": 41,
          "data": {
            "text/plain": "array([nan, nan, nan, nan, nan, nan, nan, nan, nan, nan, nan, nan, nan,\n       nan, nan, nan, nan, nan, nan, nan, nan, nan, nan, nan, nan, nan,\n       nan, nan, nan, nan, nan, nan, nan, nan, nan, nan, nan, nan, nan,\n       nan, nan, nan, nan, nan, nan, nan, nan, nan, nan, nan, nan, nan,\n       nan, nan, nan, nan, nan, nan, nan, nan, nan, nan, nan, nan, nan,\n       nan, nan, nan, nan, nan, nan, nan, nan, nan, nan, nan, nan, nan,\n       nan, nan, nan])"
          },
          "metadata": {}
        }
      ],
      "execution_count": 41,
      "metadata": {
        "jupyter": {
          "source_hidden": false,
          "outputs_hidden": false
        },
        "nteract": {
          "transient": {
            "deleting": false
          }
        },
        "gather": {
          "logged": 1634199305725
        }
      }
    },
    {
      "cell_type": "code",
      "source": [
        "fitted_model.quantiles = [0.05,0.5, 0.9]\r\n",
        "fitted_model.forecast_quantiles(\r\n",
        "    test_data,label_query)"
      ],
      "outputs": [
        {
          "output_type": "stream",
          "name": "stderr",
          "text": "Cannot reset time index. Use reindex to change its values.\nCannot reset time index. Use reindex to change its values.\n"
        },
        {
          "output_type": "execute_result",
          "execution_count": 39,
          "data": {
            "text/plain": "         date    0.05     0.5     0.9\n0  2012-10-12 6222.00 6222.00 6222.00\n1  2012-10-13 4857.00 4857.00 4857.00\n2  2012-10-14 4559.00 4559.00 4559.00\n3  2012-10-15 5115.00 5115.00 5115.00\n4  2012-10-16 6612.00 6612.00 6612.00\n..        ...     ...     ...     ...\n76 2012-12-27 1867.00 1867.00 1867.00\n77 2012-12-28 2451.00 2451.00 2451.00\n78 2012-12-29 1182.00 1182.00 1182.00\n79 2012-12-30 1432.00 1432.00 1432.00\n80 2012-12-31 2290.00 2290.00 2290.00\n\n[81 rows x 4 columns]",
            "text/html": "<div>\n<style scoped>\n    .dataframe tbody tr th:only-of-type {\n        vertical-align: middle;\n    }\n\n    .dataframe tbody tr th {\n        vertical-align: top;\n    }\n\n    .dataframe thead th {\n        text-align: right;\n    }\n</style>\n<table border=\"1\" class=\"dataframe\">\n  <thead>\n    <tr style=\"text-align: right;\">\n      <th></th>\n      <th>date</th>\n      <th>0.05</th>\n      <th>0.5</th>\n      <th>0.9</th>\n    </tr>\n  </thead>\n  <tbody>\n    <tr>\n      <th>0</th>\n      <td>2012-10-12</td>\n      <td>6222.00</td>\n      <td>6222.00</td>\n      <td>6222.00</td>\n    </tr>\n    <tr>\n      <th>1</th>\n      <td>2012-10-13</td>\n      <td>4857.00</td>\n      <td>4857.00</td>\n      <td>4857.00</td>\n    </tr>\n    <tr>\n      <th>2</th>\n      <td>2012-10-14</td>\n      <td>4559.00</td>\n      <td>4559.00</td>\n      <td>4559.00</td>\n    </tr>\n    <tr>\n      <th>3</th>\n      <td>2012-10-15</td>\n      <td>5115.00</td>\n      <td>5115.00</td>\n      <td>5115.00</td>\n    </tr>\n    <tr>\n      <th>4</th>\n      <td>2012-10-16</td>\n      <td>6612.00</td>\n      <td>6612.00</td>\n      <td>6612.00</td>\n    </tr>\n    <tr>\n      <th>...</th>\n      <td>...</td>\n      <td>...</td>\n      <td>...</td>\n      <td>...</td>\n    </tr>\n    <tr>\n      <th>76</th>\n      <td>2012-12-27</td>\n      <td>1867.00</td>\n      <td>1867.00</td>\n      <td>1867.00</td>\n    </tr>\n    <tr>\n      <th>77</th>\n      <td>2012-12-28</td>\n      <td>2451.00</td>\n      <td>2451.00</td>\n      <td>2451.00</td>\n    </tr>\n    <tr>\n      <th>78</th>\n      <td>2012-12-29</td>\n      <td>1182.00</td>\n      <td>1182.00</td>\n      <td>1182.00</td>\n    </tr>\n    <tr>\n      <th>79</th>\n      <td>2012-12-30</td>\n      <td>1432.00</td>\n      <td>1432.00</td>\n      <td>1432.00</td>\n    </tr>\n    <tr>\n      <th>80</th>\n      <td>2012-12-31</td>\n      <td>2290.00</td>\n      <td>2290.00</td>\n      <td>2290.00</td>\n    </tr>\n  </tbody>\n</table>\n<p>81 rows × 4 columns</p>\n</div>"
          },
          "metadata": {}
        }
      ],
      "execution_count": 39,
      "metadata": {
        "jupyter": {
          "source_hidden": false,
          "outputs_hidden": false
        },
        "nteract": {
          "transient": {
            "deleting": false
          }
        },
        "gather": {
          "logged": 1634198884314
        }
      }
    },
    {
      "cell_type": "code",
      "source": [
        "fit_model_2 = pickle.load(open('model.pkl','rb'))"
      ],
      "outputs": [
        {
          "output_type": "stream",
          "name": "stderr",
          "text": "unclosed file <_io.BufferedReader name='model.pkl'>\n"
        }
      ],
      "execution_count": 43,
      "metadata": {
        "jupyter": {
          "source_hidden": false,
          "outputs_hidden": false
        },
        "nteract": {
          "transient": {
            "deleting": false
          }
        },
        "gather": {
          "logged": 1634199531169
        }
      }
    },
    {
      "cell_type": "code",
      "source": [
        "fit_model_2.quantiles = [0.05,0.5, 0.9]\r\n",
        "fit_model_2.forecast_quantiles(\r\n",
        "    test_data)"
      ],
      "outputs": [
        {
          "output_type": "execute_result",
          "execution_count": 45,
          "data": {
            "text/plain": "         date    0.05     0.5     0.9\n0  2012-10-12 6222.00 6222.00 6222.00\n1  2012-10-13 4857.01 4857.01 4857.01\n2  2012-10-14 4559.01 4559.01 4559.01\n3  2012-10-15 5115.00 5115.01 5115.01\n4  2012-10-16 6612.00 6612.00 6612.00\n..        ...     ...     ...     ...\n76 2012-12-27 1867.01 1867.01 1867.02\n77 2012-12-28 2451.01 2451.01 2451.01\n78 2012-12-29 1182.01 1182.01 1182.02\n79 2012-12-30 1432.01 1432.01 1432.02\n80 2012-12-31 2290.04 2290.05 2290.05\n\n[81 rows x 4 columns]",
            "text/html": "<div>\n<style scoped>\n    .dataframe tbody tr th:only-of-type {\n        vertical-align: middle;\n    }\n\n    .dataframe tbody tr th {\n        vertical-align: top;\n    }\n\n    .dataframe thead th {\n        text-align: right;\n    }\n</style>\n<table border=\"1\" class=\"dataframe\">\n  <thead>\n    <tr style=\"text-align: right;\">\n      <th></th>\n      <th>date</th>\n      <th>0.05</th>\n      <th>0.5</th>\n      <th>0.9</th>\n    </tr>\n  </thead>\n  <tbody>\n    <tr>\n      <th>0</th>\n      <td>2012-10-12</td>\n      <td>6222.00</td>\n      <td>6222.00</td>\n      <td>6222.00</td>\n    </tr>\n    <tr>\n      <th>1</th>\n      <td>2012-10-13</td>\n      <td>4857.01</td>\n      <td>4857.01</td>\n      <td>4857.01</td>\n    </tr>\n    <tr>\n      <th>2</th>\n      <td>2012-10-14</td>\n      <td>4559.01</td>\n      <td>4559.01</td>\n      <td>4559.01</td>\n    </tr>\n    <tr>\n      <th>3</th>\n      <td>2012-10-15</td>\n      <td>5115.00</td>\n      <td>5115.01</td>\n      <td>5115.01</td>\n    </tr>\n    <tr>\n      <th>4</th>\n      <td>2012-10-16</td>\n      <td>6612.00</td>\n      <td>6612.00</td>\n      <td>6612.00</td>\n    </tr>\n    <tr>\n      <th>...</th>\n      <td>...</td>\n      <td>...</td>\n      <td>...</td>\n      <td>...</td>\n    </tr>\n    <tr>\n      <th>76</th>\n      <td>2012-12-27</td>\n      <td>1867.01</td>\n      <td>1867.01</td>\n      <td>1867.02</td>\n    </tr>\n    <tr>\n      <th>77</th>\n      <td>2012-12-28</td>\n      <td>2451.01</td>\n      <td>2451.01</td>\n      <td>2451.01</td>\n    </tr>\n    <tr>\n      <th>78</th>\n      <td>2012-12-29</td>\n      <td>1182.01</td>\n      <td>1182.01</td>\n      <td>1182.02</td>\n    </tr>\n    <tr>\n      <th>79</th>\n      <td>2012-12-30</td>\n      <td>1432.01</td>\n      <td>1432.01</td>\n      <td>1432.02</td>\n    </tr>\n    <tr>\n      <th>80</th>\n      <td>2012-12-31</td>\n      <td>2290.04</td>\n      <td>2290.05</td>\n      <td>2290.05</td>\n    </tr>\n  </tbody>\n</table>\n<p>81 rows × 4 columns</p>\n</div>"
          },
          "metadata": {}
        }
      ],
      "execution_count": 45,
      "metadata": {
        "jupyter": {
          "source_hidden": false,
          "outputs_hidden": false
        },
        "nteract": {
          "transient": {
            "deleting": false
          }
        },
        "gather": {
          "logged": 1634199610488
        }
      }
    },
    {
      "cell_type": "code",
      "source": [],
      "outputs": [],
      "execution_count": null,
      "metadata": {
        "jupyter": {
          "source_hidden": false,
          "outputs_hidden": false
        },
        "nteract": {
          "transient": {
            "deleting": false
          }
        }
      }
    }
  ],
  "metadata": {
    "kernelspec": {
      "name": "python3-azureml",
      "language": "python",
      "display_name": "Python 3.6 - AzureML"
    },
    "language_info": {
      "name": "python",
      "version": "3.6.9",
      "mimetype": "text/x-python",
      "codemirror_mode": {
        "name": "ipython",
        "version": 3
      },
      "pygments_lexer": "ipython3",
      "nbconvert_exporter": "python",
      "file_extension": ".py"
    },
    "kernel_info": {
      "name": "python3-azureml"
    },
    "nteract": {
      "version": "nteract-front-end@1.0.0"
    },
    "microsoft": {
      "host": {
        "AzureML": {
          "notebookHasBeenCompleted": true
        }
      }
    }
  },
  "nbformat": 4,
  "nbformat_minor": 2
}